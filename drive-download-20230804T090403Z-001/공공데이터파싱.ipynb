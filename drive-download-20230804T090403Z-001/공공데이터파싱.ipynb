{
 "cells": [
  {
   "cell_type": "code",
   "execution_count": 45,
   "id": "cf796028",
   "metadata": {},
   "outputs": [],
   "source": [
    "import os\n",
    "import sys\n",
    "import urllib.request\n",
    "import datetime\n",
    "import time\n",
    "import json\n",
    "import math\n",
    "import pandas as pd\n",
    "from urllib.parse import urlencode, unquote\n",
    "from xml_to_dict import XMLtoDict\n",
    "import matplotlib.pyplot as plt\n",
    "import koreanize_matplotlib\n",
    "import xml.etree.ElementTree as ET\n",
    "import getpass\n",
    "\n",
    "xd = XMLtoDict()"
   ]
  },
  {
   "cell_type": "code",
   "execution_count": 7,
   "id": "ac93381b",
   "metadata": {},
   "outputs": [
    {
     "name": "stdout",
     "output_type": "stream",
     "text": [
      "Collecting koreanize_matplotlib\n",
      "  Downloading koreanize_matplotlib-0.1.1-py3-none-any.whl (7.9 MB)\n",
      "     ---------------------------------------- 0.0/7.9 MB ? eta -:--:--\n",
      "     ---------------------------------------- 0.0/7.9 MB ? eta -:--:--\n",
      "     - -------------------------------------- 0.2/7.9 MB 2.1 MB/s eta 0:00:04\n",
      "     --- ------------------------------------ 0.8/7.9 MB 6.1 MB/s eta 0:00:02\n",
      "     ------- -------------------------------- 1.4/7.9 MB 7.4 MB/s eta 0:00:01\n",
      "     --------- ------------------------------ 2.0/7.9 MB 8.4 MB/s eta 0:00:01\n",
      "     ------------ --------------------------- 2.6/7.9 MB 9.1 MB/s eta 0:00:01\n",
      "     --------------- ------------------------ 3.1/7.9 MB 9.5 MB/s eta 0:00:01\n",
      "     ------------------ --------------------- 3.7/7.9 MB 10.0 MB/s eta 0:00:01\n",
      "     --------------------- ------------------ 4.4/7.9 MB 10.3 MB/s eta 0:00:01\n",
      "     ------------------------ --------------- 4.9/7.9 MB 10.2 MB/s eta 0:00:01\n",
      "     --------------------------- ------------ 5.5/7.9 MB 10.4 MB/s eta 0:00:01\n",
      "     ------------------------------ --------- 6.1/7.9 MB 10.5 MB/s eta 0:00:01\n",
      "     --------------------------------- ------ 6.7/7.9 MB 10.4 MB/s eta 0:00:01\n",
      "     ------------------------------------ --- 7.3/7.9 MB 10.6 MB/s eta 0:00:01\n",
      "     ---------------------------------------  7.8/7.9 MB 10.5 MB/s eta 0:00:01\n",
      "     ---------------------------------------  7.9/7.9 MB 10.6 MB/s eta 0:00:01\n",
      "     ---------------------------------------- 7.9/7.9 MB 10.0 MB/s eta 0:00:00\n",
      "Requirement already satisfied: matplotlib in c:\\users\\hi\\anaconda3\\envs\\myvenv\\lib\\site-packages (from koreanize_matplotlib) (3.7.2)\n",
      "Requirement already satisfied: contourpy>=1.0.1 in c:\\users\\hi\\anaconda3\\envs\\myvenv\\lib\\site-packages (from matplotlib->koreanize_matplotlib) (1.1.0)\n",
      "Requirement already satisfied: cycler>=0.10 in c:\\users\\hi\\anaconda3\\envs\\myvenv\\lib\\site-packages (from matplotlib->koreanize_matplotlib) (0.11.0)\n",
      "Requirement already satisfied: fonttools>=4.22.0 in c:\\users\\hi\\anaconda3\\envs\\myvenv\\lib\\site-packages (from matplotlib->koreanize_matplotlib) (4.42.0)\n",
      "Requirement already satisfied: kiwisolver>=1.0.1 in c:\\users\\hi\\anaconda3\\envs\\myvenv\\lib\\site-packages (from matplotlib->koreanize_matplotlib) (1.4.4)\n",
      "Requirement already satisfied: numpy>=1.20 in c:\\users\\hi\\anaconda3\\envs\\myvenv\\lib\\site-packages (from matplotlib->koreanize_matplotlib) (1.24.4)\n",
      "Requirement already satisfied: packaging>=20.0 in c:\\users\\hi\\anaconda3\\envs\\myvenv\\lib\\site-packages (from matplotlib->koreanize_matplotlib) (23.0)\n",
      "Requirement already satisfied: pillow>=6.2.0 in c:\\users\\hi\\anaconda3\\envs\\myvenv\\lib\\site-packages (from matplotlib->koreanize_matplotlib) (10.0.0)\n",
      "Requirement already satisfied: pyparsing<3.1,>=2.3.1 in c:\\users\\hi\\anaconda3\\envs\\myvenv\\lib\\site-packages (from matplotlib->koreanize_matplotlib) (3.0.9)\n",
      "Requirement already satisfied: python-dateutil>=2.7 in c:\\users\\hi\\anaconda3\\envs\\myvenv\\lib\\site-packages (from matplotlib->koreanize_matplotlib) (2.8.2)\n",
      "Requirement already satisfied: importlib-resources>=3.2.0 in c:\\users\\hi\\anaconda3\\envs\\myvenv\\lib\\site-packages (from matplotlib->koreanize_matplotlib) (6.0.1)\n",
      "Requirement already satisfied: zipp>=3.1.0 in c:\\users\\hi\\anaconda3\\envs\\myvenv\\lib\\site-packages (from importlib-resources>=3.2.0->matplotlib->koreanize_matplotlib) (3.11.0)\n",
      "Requirement already satisfied: six>=1.5 in c:\\users\\hi\\anaconda3\\envs\\myvenv\\lib\\site-packages (from python-dateutil>=2.7->matplotlib->koreanize_matplotlib) (1.16.0)\n",
      "Installing collected packages: koreanize_matplotlib\n",
      "Successfully installed koreanize_matplotlib-0.1.1\n",
      "Note: you may need to restart the kernel to use updated packages.\n"
     ]
    }
   ],
   "source": [
    "pip install koreanize_matplotlib"
   ]
  },
  {
   "cell_type": "code",
   "execution_count": 38,
   "id": "b650a313",
   "metadata": {},
   "outputs": [],
   "source": [
    "def get_request_url(url):\n",
    "  req = urllib.request.Request(url)\n",
    "  try:\n",
    "    response = urllib.request.urlopen(req)\n",
    "    if response.getcode() == 200:\n",
    "      print (\"[%s] Url Request Success\" % datetime.datetime.now())\n",
    "      return response.read().decode('utf-8')\n",
    "  except Exception as e:\n",
    "    print(e)\n",
    "    print(\"[%s] Error for URL : %s\" % (datetime.datetime.now(), url))\n",
    "  return None\n",
    "\n",
    "def getTouristWrite(pageNo, numOfRows, Year,dvs):\n",
    "\n",
    "  service_url = \"https://apis.data.go.kr/1352000/ODMS_STAT_05/\"\n",
    "  parameters = \"callStat05Api?serviceKey=\" + servicekey   # 인증키\n",
    "  parameters += \"&pageNo\" + yyyymm\n",
    "  parameters += \"&numOfRows=\" + national_code\n",
    "  parameters += \"&apiType=\" + ed_cd\n",
    "  parameters += \"&year=\" +  ed_cd\n",
    "  parameters += \"&dvs=\" +  dvs\n",
    "\n",
    "  url = service_url + parameters\n",
    "  print(url)   # 액세스 거부 여부 확인용 출력\n",
    "  responseDecode = get_request_url(url)   # [CODE 1]\n",
    "\n",
    "  if(responseDecode == None):\n",
    "    return None\n",
    "  else :\n",
    "    return xd.parse(responseDecode)\n",
    "\n"
   ]
  },
  {
   "cell_type": "code",
   "execution_count": 56,
   "id": "becf1625",
   "metadata": {},
   "outputs": [],
   "source": [
    "import datetime\n",
    "import urllib.request\n",
    "from urllib.parse import urlencode\n",
    "import xml.etree.ElementTree as ET\n",
    "\n",
    "def get_request_url(url):\n",
    "    try:\n",
    "        response = urllib.request.urlopen(url)\n",
    "        if response.getcode() == 200:\n",
    "            return response.read().decode('utf-8')\n",
    "        else:\n",
    "            print(\"Request failed with status code:\", response.getcode())\n",
    "    except urllib.error.URLError as e:\n",
    "        print(\"URL Error:\", e)\n",
    "    except urllib.error.HTTPError as e:\n",
    "        print(\"HTTP Error:\", e)\n",
    "    except Exception as e:\n",
    "        print(\"Error:\", e)\n",
    "    return None\n",
    "\n",
    "def get_disease_death(key,page_no, num_of_rows,apiType, Year, dvs):\n",
    "    service_url = \"https://apis.data.go.kr/1352000/ODMS_STAT_05/\"\n",
    "    parameters = {\n",
    "        \"serviceKey\": key,  # 인증키\n",
    "        \"pageNo\": page_no,\n",
    "        \"numOfRows\": num_of_rows,\n",
    "        \"apiType\": apiType,\n",
    "        \"year\": year,\n",
    "        \"dvs\": dvs\n",
    "    }\n",
    "\n",
    "    url = service_url + \"callStat05Api?\" + urlencode(parameters)\n",
    "\n",
    "    response_decode = get_request_url(url)  # [CODE 1]\n",
    "    \n",
    "    if(response_decode == None):\n",
    "        return None\n",
    "    else :\n",
    "        return xd.parse(response_decode)\n"
   ]
  },
  {
   "cell_type": "code",
   "execution_count": 57,
   "id": "7a6ce7ec",
   "metadata": {
    "scrolled": true
   },
   "outputs": [
    {
     "name": "stdout",
     "output_type": "stream",
     "text": [
      "비밀번호 입력>>········\n",
      "https://apis.data.go.kr/1352000/ODMS_STAT_05/callStat05Api?serviceKey=%09+XBCfPV7I%2FD0fjS5k%2FZhfxaBhENI2jLKFd03UweXHhYlpBCO4WIpFumgM1veHweHM0JpUHam39r%2FpPLsAJJxIpA%3D%3D&pageNo=1&numOfRows=10&apiType=json&year=2010&dvs=%EB%82%A8%EC%9E%90\n",
      "[2023-08-18 14:40:03.494365] Url Request Success\n",
      "{'OpenAPI_ServiceResponse': {'cmmMsgHeader': {'errMsg': 'SERVICE ERROR', 'returnAuthMsg': 'SERVICE_KEY_IS_NOT_REGISTERED_ERROR', 'returnReasonCode': '30'}}}\n",
      "https://apis.data.go.kr/1352000/ODMS_STAT_05/callStat05Api?serviceKey=%09+XBCfPV7I%2FD0fjS5k%2FZhfxaBhENI2jLKFd03UweXHhYlpBCO4WIpFumgM1veHweHM0JpUHam39r%2FpPLsAJJxIpA%3D%3D&pageNo=1&numOfRows=10&apiType=json&year=2011&dvs=%EB%82%A8%EC%9E%90\n",
      "[2023-08-18 14:40:03.743237] Url Request Success\n",
      "{'OpenAPI_ServiceResponse': {'cmmMsgHeader': {'errMsg': 'SERVICE ERROR', 'returnAuthMsg': 'SERVICE_KEY_IS_NOT_REGISTERED_ERROR', 'returnReasonCode': '30'}}}\n",
      "https://apis.data.go.kr/1352000/ODMS_STAT_05/callStat05Api?serviceKey=%09+XBCfPV7I%2FD0fjS5k%2FZhfxaBhENI2jLKFd03UweXHhYlpBCO4WIpFumgM1veHweHM0JpUHam39r%2FpPLsAJJxIpA%3D%3D&pageNo=1&numOfRows=10&apiType=json&year=2012&dvs=%EB%82%A8%EC%9E%90\n",
      "[2023-08-18 14:40:03.928533] Url Request Success\n",
      "{'OpenAPI_ServiceResponse': {'cmmMsgHeader': {'errMsg': 'SERVICE ERROR', 'returnAuthMsg': 'SERVICE_KEY_IS_NOT_REGISTERED_ERROR', 'returnReasonCode': '30'}}}\n",
      "https://apis.data.go.kr/1352000/ODMS_STAT_05/callStat05Api?serviceKey=%09+XBCfPV7I%2FD0fjS5k%2FZhfxaBhENI2jLKFd03UweXHhYlpBCO4WIpFumgM1veHweHM0JpUHam39r%2FpPLsAJJxIpA%3D%3D&pageNo=1&numOfRows=10&apiType=json&year=2013&dvs=%EB%82%A8%EC%9E%90\n",
      "[2023-08-18 14:40:04.092027] Url Request Success\n",
      "{'OpenAPI_ServiceResponse': {'cmmMsgHeader': {'errMsg': 'SERVICE ERROR', 'returnAuthMsg': 'SERVICE_KEY_IS_NOT_REGISTERED_ERROR', 'returnReasonCode': '30'}}}\n",
      "https://apis.data.go.kr/1352000/ODMS_STAT_05/callStat05Api?serviceKey=%09+XBCfPV7I%2FD0fjS5k%2FZhfxaBhENI2jLKFd03UweXHhYlpBCO4WIpFumgM1veHweHM0JpUHam39r%2FpPLsAJJxIpA%3D%3D&pageNo=1&numOfRows=10&apiType=json&year=2014&dvs=%EB%82%A8%EC%9E%90\n",
      "[2023-08-18 14:40:22.837279] Url Request Success\n",
      "{'OpenAPI_ServiceResponse': {'cmmMsgHeader': {'errMsg': 'SERVICE ERROR', 'returnAuthMsg': 'SERVICE_KEY_IS_NOT_REGISTERED_ERROR', 'returnReasonCode': '30'}}}\n",
      "https://apis.data.go.kr/1352000/ODMS_STAT_05/callStat05Api?serviceKey=%09+XBCfPV7I%2FD0fjS5k%2FZhfxaBhENI2jLKFd03UweXHhYlpBCO4WIpFumgM1veHweHM0JpUHam39r%2FpPLsAJJxIpA%3D%3D&pageNo=1&numOfRows=10&apiType=json&year=2015&dvs=%EB%82%A8%EC%9E%90\n",
      "[2023-08-18 14:40:22.974010] Url Request Success\n",
      "{'OpenAPI_ServiceResponse': {'cmmMsgHeader': {'errMsg': 'SERVICE ERROR', 'returnAuthMsg': 'SERVICE_KEY_IS_NOT_REGISTERED_ERROR', 'returnReasonCode': '30'}}}\n",
      "https://apis.data.go.kr/1352000/ODMS_STAT_05/callStat05Api?serviceKey=%09+XBCfPV7I%2FD0fjS5k%2FZhfxaBhENI2jLKFd03UweXHhYlpBCO4WIpFumgM1veHweHM0JpUHam39r%2FpPLsAJJxIpA%3D%3D&pageNo=1&numOfRows=10&apiType=json&year=2016&dvs=%EB%82%A8%EC%9E%90\n",
      "[2023-08-18 14:40:23.192329] Url Request Success\n",
      "{'OpenAPI_ServiceResponse': {'cmmMsgHeader': {'errMsg': 'SERVICE ERROR', 'returnAuthMsg': 'SERVICE_KEY_IS_NOT_REGISTERED_ERROR', 'returnReasonCode': '30'}}}\n",
      "https://apis.data.go.kr/1352000/ODMS_STAT_05/callStat05Api?serviceKey=%09+XBCfPV7I%2FD0fjS5k%2FZhfxaBhENI2jLKFd03UweXHhYlpBCO4WIpFumgM1veHweHM0JpUHam39r%2FpPLsAJJxIpA%3D%3D&pageNo=1&numOfRows=10&apiType=json&year=2017&dvs=%EB%82%A8%EC%9E%90\n",
      "[2023-08-18 14:40:23.359051] Url Request Success\n",
      "{'OpenAPI_ServiceResponse': {'cmmMsgHeader': {'errMsg': 'SERVICE ERROR', 'returnAuthMsg': 'SERVICE_KEY_IS_NOT_REGISTERED_ERROR', 'returnReasonCode': '30'}}}\n",
      "https://apis.data.go.kr/1352000/ODMS_STAT_05/callStat05Api?serviceKey=%09+XBCfPV7I%2FD0fjS5k%2FZhfxaBhENI2jLKFd03UweXHhYlpBCO4WIpFumgM1veHweHM0JpUHam39r%2FpPLsAJJxIpA%3D%3D&pageNo=1&numOfRows=10&apiType=json&year=2018&dvs=%EB%82%A8%EC%9E%90\n",
      "[2023-08-18 14:40:30.491807] Url Request Success\n",
      "{'OpenAPI_ServiceResponse': {'cmmMsgHeader': {'errMsg': 'SERVICE ERROR', 'returnAuthMsg': 'SERVICE_KEY_IS_NOT_REGISTERED_ERROR', 'returnReasonCode': '30'}}}\n",
      "https://apis.data.go.kr/1352000/ODMS_STAT_05/callStat05Api?serviceKey=%09+XBCfPV7I%2FD0fjS5k%2FZhfxaBhENI2jLKFd03UweXHhYlpBCO4WIpFumgM1veHweHM0JpUHam39r%2FpPLsAJJxIpA%3D%3D&pageNo=1&numOfRows=10&apiType=json&year=2019&dvs=%EB%82%A8%EC%9E%90\n",
      "[2023-08-18 14:40:36.259099] Url Request Success\n",
      "{'OpenAPI_ServiceResponse': {'cmmMsgHeader': {'errMsg': 'SERVICE ERROR', 'returnAuthMsg': 'SERVICE_KEY_IS_NOT_REGISTERED_ERROR', 'returnReasonCode': '30'}}}\n"
     ]
    }
   ],
   "source": [
    "# 비밀번호 입력\n",
    "servicekey = getpass.getpass(\"비밀번호 입력>>\")\n",
    "\n",
    "start_year = 2010\n",
    "end_year = 2019\n",
    "\n",
    "# 날짜 범위 내에서 함수 호출\n",
    "for year in range(start_year, end_year + 1):\n",
    "    result = get_tourist_write(servicekey, 1, 10,'json', year ,'남자')\n",
    "    print(result)\n",
    "#     xml_filename = f\"tourist_data_{year}.xml\"\n",
    "\n",
    "#     # Element 객체 생성\n",
    "#     root = ET.Element(\"root\")\n",
    "#     for key, value in result.items():\n",
    "#         element = ET.Element(key)\n",
    "#         element.text = str(value)\n",
    "#         root.append(element)\n",
    "\n",
    "#     # 트리 생성 및 파일로 저장\n",
    "#     tree = ET.ElementTree(root)\n",
    "#     tree.write(xml_filename, encoding=\"utf-8\", xml_declaration=True)\n",
    "#     print(f\"XML data for {year} saved as {xml_filename}\")\n",
    "\n",
    "    "
   ]
  },
  {
   "cell_type": "code",
   "execution_count": 58,
   "id": "f283a6ee",
   "metadata": {},
   "outputs": [
    {
     "name": "stdout",
     "output_type": "stream",
     "text": [
      "Merged XML data saved as merged_tourist_data.xml\n"
     ]
    }
   ],
   "source": [
    "import os\n",
    "import xml.etree.ElementTree as ET\n",
    "\n",
    "# 합칠 XML 파일들의 경로\n",
    "xml_files = [\"tourist_data_2010.xml\", \"tourist_data_2011.xml\", \"tourist_data_2012.xml\", \"tourist_data_2013.xml\",\n",
    "             \"tourist_data_2014.xml\",\"tourist_data_2015.xml\",\"tourist_data_2016.xml\",\"tourist_data_2017.xml\",\"tourist_data_2018.xml\",\n",
    "             \"tourist_data_2019.xml\"]\n",
    "\n",
    "# 합쳐진 XML 데이터를 저장할 파일 이름\n",
    "merged_xml_filename = \"merged_tourist_data.xml\"\n",
    "\n",
    "# 최상위 Element 생성\n",
    "root = ET.Element(\"merged_data\")\n",
    "\n",
    "# 각 XML 파일의 내용을 순차적으로 추가\n",
    "for xml_file in xml_files:\n",
    "    if os.path.exists(xml_file):\n",
    "        # XML 파일을 파싱하여 Element 객체 얻기\n",
    "        tree = ET.parse(xml_file)\n",
    "        root_of_file = tree.getroot()\n",
    "\n",
    "        # 각 파일의 내용을 최상위 Element에 추가\n",
    "        for element in root_of_file:\n",
    "            root.append(element)\n",
    "\n",
    "# 트리 생성 및 파일로 저장\n",
    "merged_tree = ET.ElementTree(root)\n",
    "merged_tree.write(merged_xml_filename, encoding=\"utf-8\", xml_declaration=True)\n",
    "\n",
    "print(f\"Merged XML data saved as {merged_xml_filename}\")"
   ]
  },
  {
   "cell_type": "code",
   "execution_count": 112,
   "id": "47ef3c70",
   "metadata": {},
   "outputs": [
    {
     "name": "stdout",
     "output_type": "stream",
     "text": [
      "Collecting xmltodict\n",
      "  Downloading xmltodict-0.13.0-py2.py3-none-any.whl (10.0 kB)\n",
      "Installing collected packages: xmltodict\n",
      "Successfully installed xmltodict-0.13.0\n",
      "Note: you may need to restart the kernel to use updated packages.\n"
     ]
    }
   ],
   "source": [
    "pip install xmltodict"
   ]
  },
  {
   "cell_type": "code",
   "execution_count": 113,
   "id": "299efb34",
   "metadata": {},
   "outputs": [],
   "source": [
    "import xmltodict\n",
    "# with open('C:/Users\\hi/Desktop/bigdata/merged_desease_data.xml','r',encoding='UTF8') as file:\n",
    "#     data = file.read()\n",
    "    \n",
    "with open('C:/Users\\hi/Desktop/bigdata/merged_desease_data.xml', encoding='utf-8') as f:\n",
    "    data = xmltodict.parse(f.read())"
   ]
  },
  {
   "cell_type": "code",
   "execution_count": 65,
   "id": "f153a3d9",
   "metadata": {},
   "outputs": [],
   "source": [
    "import json \n"
   ]
  },
  {
   "cell_type": "code",
   "execution_count": 129,
   "id": "5af3ad87",
   "metadata": {},
   "outputs": [
    {
     "name": "stdout",
     "output_type": "stream",
     "text": [
      "{'header': {'resultCode': '00', 'resultMsg': 'NORMAL SERVICE'}, 'body': {'items': {'item': {'year': '2010', 'dvs': '남자', 'mrdhTtl': '142358', 'mnCsdthCrpds': '3761', 'mrdhNplsm': '45746', 'mrdhDsbh': '286', 'mrdhEdmds': '5657', 'mrdhMtbh': '2086', 'mrdhDsnrs': '2751', 'mrdhEyds': '1', 'mrdhErds': '1', 'mrdhDscry': '26740', 'mrdhDsrp': '10632', 'mrdhDsdst': '7349', 'mrdhDskts': '161', 'mrdhDsms': '614', 'mrdhDsgtr': '2307', 'mrdhPrgps': '0', 'mrdhCropr': '499', 'mrdhSytcls': '263', 'mrdhCmca': '11346', 'mrdhOtsd': '22158'}}, 'numOfRows': '10', 'pageNo': '1', 'totalCount': '45'}}\n",
      "{'header': {'resultCode': '00', 'resultMsg': 'NORMAL SERVICE'}, 'body': {'items': {'item': {'year': '2011', 'dvs': '남자', 'mrdhTtl': '143250', 'mnCsdthCrpds': '3740', 'mrdhNplsm': '45419', 'mrdhDsbh': '270', 'mrdhEdmds': '6031', 'mrdhMtbh': '2178', 'mrdhDsnrs': '2936', 'mrdhEyds': '1', 'mrdhErds': '2', 'mrdhDscry': '26717', 'mrdhDsrp': '11279', 'mrdhDsdst': '7342', 'mrdhDskts': '173', 'mrdhDsms': '616', 'mrdhDsgtr': '2350', 'mrdhPrgps': '0', 'mrdhCropr': '444', 'mrdhSytcls': '261', 'mrdhCmca': '11237', 'mrdhOtsd': '22254'}}, 'numOfRows': '10', 'pageNo': '1', 'totalCount': '45'}}\n",
      "{'header': {'resultCode': '00', 'resultMsg': 'NORMAL SERVICE'}, 'body': {'items': {'item': {'year': '2012', 'dvs': '남자', 'mrdhTtl': '147372', 'mnCsdthCrpds': '3878', 'mrdhNplsm': '47104', 'mrdhDsbh': '279', 'mrdhEdmds': '6340', 'mrdhMtbh': '2214', 'mrdhDsnrs': '3382', 'mrdhEyds': '0', 'mrdhErds': '1', 'mrdhDscry': '27818', 'mrdhDsrp': '12685', 'mrdhDsdst': '7407', 'mrdhDskts': '143', 'mrdhDsms': '615', 'mrdhDsgtr': '2575', 'mrdhPrgps': '0', 'mrdhCropr': '429', 'mrdhSytcls': '257', 'mrdhCmca': '11137', 'mrdhOtsd': '21108'}}, 'numOfRows': '10', 'pageNo': '1', 'totalCount': '45'}}\n",
      "{'header': {'resultCode': '00', 'resultMsg': 'NORMAL SERVICE'}, 'body': {'items': {'item': {'year': '2013', 'dvs': '남자', 'mrdhTtl': '146599', 'mnCsdthCrpds': '3563', 'mrdhNplsm': '47768', 'mrdhDsbh': '307', 'mrdhEdmds': '5872', 'mrdhMtbh': '2138', 'mrdhDsnrs': '4115', 'mrdhEyds': '0', 'mrdhErds': '1', 'mrdhDscry': '27097', 'mrdhDsrp': '12485', 'mrdhDsdst': '7279', 'mrdhDskts': '125', 'mrdhDsms': '606', 'mrdhDsgtr': '2609', 'mrdhPrgps': '0', 'mrdhCropr': '378', 'mrdhSytcls': '249', 'mrdhCmca': '10863', 'mrdhOtsd': '21144'}}, 'numOfRows': '10', 'pageNo': '1', 'totalCount': '45'}}\n",
      "{'header': {'resultCode': '00', 'resultMsg': 'NORMAL SERVICE'}, 'body': {'items': {'item': {'year': '2014', 'dvs': '남자', 'mrdhTtl': '147321', 'mnCsdthCrpds': '3688', 'mrdhNplsm': '48552', 'mrdhDsbh': '283', 'mrdhEdmds': '5836', 'mrdhMtbh': '2080', 'mrdhDsnrs': '4089', 'mrdhEyds': '0', 'mrdhErds': '1', 'mrdhDscry': '27502', 'mrdhDsrp': '13541', 'mrdhDsdst': '7285', 'mrdhDskts': '172', 'mrdhDsms': '525', 'mrdhDsgtr': '2739', 'mrdhPrgps': '0', 'mrdhCropr': '389', 'mrdhSytcls': '236', 'mrdhCmca': '10408', 'mrdhOtsd': '19995'}}, 'numOfRows': '10', 'pageNo': '1', 'totalCount': '45'}}\n",
      "{'header': {'resultCode': '00', 'resultMsg': 'NORMAL SERVICE'}, 'body': {'items': {'item': {'year': '2015', 'dvs': '남자', 'mrdhTtl': '150449', 'mnCsdthCrpds': '3754', 'mrdhNplsm': '48428', 'mrdhDsbh': '322', 'mrdhEdmds': '5812', 'mrdhMtbh': '2241', 'mrdhDsnrs': '4318', 'mrdhEyds': '0', 'mrdhErds': '1', 'mrdhDscry': '28199', 'mrdhDsrp': '15507', 'mrdhDsdst': '7428', 'mrdhDskts': '182', 'mrdhDsms': '502', 'mrdhDsgtr': '3017', 'mrdhPrgps': '0', 'mrdhCropr': '353', 'mrdhSytcls': '223', 'mrdhCmca': '10562', 'mrdhOtsd': '19600'}}, 'numOfRows': '10', 'pageNo': '1', 'totalCount': '45'}}\n",
      "{'header': {'resultCode': '00', 'resultMsg': 'NORMAL SERVICE'}, 'body': {'items': {'item': {'year': '2016', 'dvs': '남자', 'mrdhTtl': '152529', 'mnCsdthCrpds': '3980', 'mrdhNplsm': '49009', 'mrdhDsbh': '282', 'mrdhEdmds': '5551', 'mrdhMtbh': '2270', 'mrdhDsnrs': '4434', 'mrdhEyds': '0', 'mrdhErds': '0', 'mrdhDscry': '28433', 'mrdhDsrp': '16394', 'mrdhDsdst': '7594', 'mrdhDskts': '175', 'mrdhDsms': '531', 'mrdhDsgtr': '3282', 'mrdhPrgps': '0', 'mrdhCropr': '353', 'mrdhSytcls': '216', 'mrdhCmca': '10760', 'mrdhOtsd': '19265'}}, 'numOfRows': '10', 'pageNo': '1', 'totalCount': '45'}}\n",
      "{'header': {'resultCode': '00', 'resultMsg': 'NORMAL SERVICE'}, 'body': {'items': {'item': {'year': '2017', 'dvs': '남자', 'mrdhTtl': '154328', 'mnCsdthCrpds': '3830', 'mrdhNplsm': '49629', 'mrdhDsbh': '308', 'mrdhEdmds': '5168', 'mrdhMtbh': '2286', 'mrdhDsnrs': '4531', 'mrdhEyds': '0', 'mrdhErds': '2', 'mrdhDscry': '28674', 'mrdhDsrp': '18129', 'mrdhDsdst': '7551', 'mrdhDskts': '212', 'mrdhDsms': '504', 'mrdhDsgtr': '3303', 'mrdhPrgps': '0', 'mrdhCropr': '308', 'mrdhSytcls': '196', 'mrdhCmca': '11005', 'mrdhOtsd': '18692'}}, 'numOfRows': '10', 'pageNo': '1', 'totalCount': '45'}}\n",
      "{'header': {'resultCode': '00', 'resultMsg': 'NORMAL SERVICE'}, 'body': {'items': {'item': {'year': '2018', 'dvs': '남자', 'mrdhTtl': '161187', 'mnCsdthCrpds': '4209', 'mrdhNplsm': '49797', 'mrdhDsbh': '376', 'mrdhEdmds': '5165', 'mrdhMtbh': '2111', 'mrdhDsnrs': '5129', 'mrdhEyds': '1', 'mrdhErds': '5', 'mrdhDscry': '29342', 'mrdhDsrp': '20777', 'mrdhDsdst': '7650', 'mrdhDskts': '239', 'mrdhDsms': '476', 'mrdhDsgtr': '3548', 'mrdhPrgps': '0', 'mrdhCropr': '281', 'mrdhSytcls': '174', 'mrdhCmca': '12414', 'mrdhOtsd': '19493'}}, 'numOfRows': '10', 'pageNo': '1', 'totalCount': '45'}}\n",
      "{'header': {'resultCode': '00', 'resultMsg': 'NORMAL SERVICE'}, 'body': {'items': {'item': {'year': '2019', 'dvs': '남자', 'mrdhTtl': '160322', 'mnCsdthCrpds': '4103', 'mrdhNplsm': '51158', 'mrdhDsbh': '357', 'mrdhEdmds': '4817', 'mrdhMtbh': '2095', 'mrdhDsnrs': '5040', 'mrdhEyds': '1', 'mrdhErds': '3', 'mrdhDscry': '28672', 'mrdhDsrp': '20513', 'mrdhDsdst': '7316', 'mrdhDskts': '203', 'mrdhDsms': '497', 'mrdhDsgtr': '3712', 'mrdhPrgps': '0', 'mrdhCropr': '234', 'mrdhSytcls': '163', 'mrdhCmca': '12542', 'mrdhOtsd': '18896'}}, 'numOfRows': '10', 'pageNo': '1', 'totalCount': '45'}}\n"
     ]
    }
   ],
   "source": [
    "for i in data['merged_data']['response']:\n",
    "    print(i)"
   ]
  }
 ],
 "metadata": {
  "kernelspec": {
   "display_name": "myvenv",
   "language": "python",
   "name": "myvenv"
  },
  "language_info": {
   "codemirror_mode": {
    "name": "ipython",
    "version": 3
   },
   "file_extension": ".py",
   "mimetype": "text/x-python",
   "name": "python",
   "nbconvert_exporter": "python",
   "pygments_lexer": "ipython3",
   "version": "3.8.17"
  }
 },
 "nbformat": 4,
 "nbformat_minor": 5
}
