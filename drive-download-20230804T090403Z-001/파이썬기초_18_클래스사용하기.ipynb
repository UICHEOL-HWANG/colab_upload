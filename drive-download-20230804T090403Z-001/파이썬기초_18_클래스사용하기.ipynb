{
 "cells": [
  {
   "cell_type": "markdown",
   "id": "b62e8703",
   "metadata": {},
   "source": [
    "# 1. class 사용하기 "
   ]
  },
  {
   "cell_type": "markdown",
   "id": "fe29d8e0",
   "metadata": {},
   "source": [
    "* 클래스 = 자판기를 만드는 공장 \n",
    "* 클래스 내부의 함수(메소드)는 자판기 1개 \n",
    "* 계산기의 더하기 코드를 만드는데 기존의 값을 기억하고 있는 계산기 만들기 \n"
   ]
  },
  {
   "cell_type": "code",
   "execution_count": 1,
   "id": "890284bb",
   "metadata": {},
   "outputs": [],
   "source": [
    "def add(num1,num2):\n",
    "    result = num1 + num2\n",
    "    return result"
   ]
  },
  {
   "cell_type": "code",
   "execution_count": 4,
   "id": "a8e1d8ba",
   "metadata": {},
   "outputs": [
    {
     "data": {
      "text/plain": [
       "8"
      ]
     },
     "execution_count": 4,
     "metadata": {},
     "output_type": "execute_result"
    }
   ],
   "source": [
    "add(5,3)"
   ]
  },
  {
   "cell_type": "code",
   "execution_count": 16,
   "id": "58bc72d7",
   "metadata": {},
   "outputs": [],
   "source": [
    "result = 0\n",
    "def add(num):\n",
    "    global result #global로 전역변수로 만듦 \n",
    "    result += num \n",
    "    return result "
   ]
  },
  {
   "cell_type": "code",
   "execution_count": 17,
   "id": "a90a6799",
   "metadata": {},
   "outputs": [
    {
     "data": {
      "text/plain": [
       "4"
      ]
     },
     "execution_count": 17,
     "metadata": {},
     "output_type": "execute_result"
    }
   ],
   "source": [
    "add(4)"
   ]
  },
  {
   "cell_type": "code",
   "execution_count": 14,
   "id": "c02aabfa",
   "metadata": {},
   "outputs": [
    {
     "name": "stdout",
     "output_type": "stream",
     "text": [
      "0\n"
     ]
    }
   ],
   "source": [
    "print(result)"
   ]
  },
  {
   "cell_type": "code",
   "execution_count": 18,
   "id": "0d60c24f",
   "metadata": {},
   "outputs": [],
   "source": [
    "result1 = 0\n",
    "result2 = 0 \n",
    "\n",
    "def add1(num): #계산기 1 \n",
    "    global result1 #global로 전역변수로 만듦 \n",
    "    result1 += num \n",
    "    return result1 \n",
    "\n",
    "def add2(num): #계산기 2\n",
    "    global result2 #global로 전역변수로 만듦 \n",
    "    result2 += num \n",
    "    return result2 "
   ]
  },
  {
   "cell_type": "code",
   "execution_count": 20,
   "id": "d2a44ed2",
   "metadata": {},
   "outputs": [
    {
     "name": "stdout",
     "output_type": "stream",
     "text": [
      "7\n"
     ]
    }
   ],
   "source": [
    "print(add1(4))"
   ]
  },
  {
   "cell_type": "code",
   "execution_count": 22,
   "id": "1401eb39",
   "metadata": {
    "scrolled": true
   },
   "outputs": [
    {
     "name": "stdout",
     "output_type": "stream",
     "text": [
      "12\n"
     ]
    }
   ],
   "source": [
    "print(add2(8))"
   ]
  },
  {
   "cell_type": "code",
   "execution_count": 23,
   "id": "7edb843b",
   "metadata": {},
   "outputs": [],
   "source": [
    "# 클래스로 계산기 만들기 \n",
    "\n",
    "class Calculatior:\n",
    "    def __init__(self):\n",
    "        self.result = 0 \n",
    "    def add(self,num):\n",
    "        self.result += num \n",
    "        return self.result "
   ]
  },
  {
   "cell_type": "code",
   "execution_count": 25,
   "id": "4c31f5ab",
   "metadata": {},
   "outputs": [],
   "source": [
    "cal1 = Calculatior()"
   ]
  },
  {
   "cell_type": "code",
   "execution_count": 26,
   "id": "97381a6d",
   "metadata": {},
   "outputs": [
    {
     "name": "stdout",
     "output_type": "stream",
     "text": [
      "<__main__.Calculatior object at 0x000001D24D6F3F40>\n"
     ]
    }
   ],
   "source": [
    "print(cal1)"
   ]
  },
  {
   "cell_type": "code",
   "execution_count": 29,
   "id": "175ace17",
   "metadata": {
    "scrolled": true
   },
   "outputs": [
    {
     "name": "stdout",
     "output_type": "stream",
     "text": [
      "<class '__main__.Calculatior'>\n"
     ]
    }
   ],
   "source": [
    "print(type(cal1))"
   ]
  },
  {
   "cell_type": "code",
   "execution_count": 30,
   "id": "83b7cfb8",
   "metadata": {},
   "outputs": [
    {
     "data": {
      "text/plain": [
       "2"
      ]
     },
     "execution_count": 30,
     "metadata": {},
     "output_type": "execute_result"
    }
   ],
   "source": [
    "cal1.add(2)"
   ]
  },
  {
   "cell_type": "code",
   "execution_count": 31,
   "id": "17f77acb",
   "metadata": {
    "scrolled": true
   },
   "outputs": [
    {
     "data": {
      "text/plain": [
       "5"
      ]
     },
     "execution_count": 31,
     "metadata": {},
     "output_type": "execute_result"
    }
   ],
   "source": [
    "cal1.add(3)"
   ]
  },
  {
   "cell_type": "code",
   "execution_count": 33,
   "id": "21d01490",
   "metadata": {},
   "outputs": [],
   "source": [
    "cal2 = Calculatior() "
   ]
  },
  {
   "cell_type": "code",
   "execution_count": 34,
   "id": "3a6dcd11",
   "metadata": {},
   "outputs": [
    {
     "data": {
      "text/plain": [
       "1"
      ]
     },
     "execution_count": 34,
     "metadata": {},
     "output_type": "execute_result"
    }
   ],
   "source": [
    "cal2.add(1)"
   ]
  },
  {
   "cell_type": "code",
   "execution_count": 35,
   "id": "28af8b10",
   "metadata": {},
   "outputs": [
    {
     "data": {
      "text/plain": [
       "9"
      ]
     },
     "execution_count": 35,
     "metadata": {},
     "output_type": "execute_result"
    }
   ],
   "source": [
    "cal1.add(4)"
   ]
  },
  {
   "cell_type": "markdown",
   "id": "a3164c7b",
   "metadata": {},
   "source": [
    "* Calculator 클래스로 만든 별개의 계산기 \n",
    "* cal1,cla2를 파이썬에서는 객체라고 부른다 (object)\n",
    "* 계산기의 결과값도 다른 계산기와 상관없이 값을 유지한다. \n"
   ]
  },
  {
   "cell_type": "code",
   "execution_count": 36,
   "id": "9e1bdc47",
   "metadata": {},
   "outputs": [],
   "source": [
    "# .get .~ 으로 끝나는 함수들은 모두 class로 만들어졌다고 생각하면 쉽다\n"
   ]
  },
  {
   "cell_type": "code",
   "execution_count": 37,
   "id": "f872f6b2",
   "metadata": {},
   "outputs": [],
   "source": [
    "# 빼기 기능 추가 \n",
    "\n",
    "class Calculator:\n",
    "    def __init__(self): # 생성자\n",
    "        self.result = 0 \n",
    "    def add(self,num): #메소드 (method)\n",
    "        self.result += num\n",
    "        return self.result \n",
    "    def sub(self,num):\n",
    "        self.result -= num \n",
    "        return self.result "
   ]
  },
  {
   "cell_type": "code",
   "execution_count": 40,
   "id": "d46fb7c8",
   "metadata": {},
   "outputs": [],
   "source": [
    "cal_a = Calculator() # 클래스를 변수에 저장하는 것 : 객체를 생성 "
   ]
  },
  {
   "cell_type": "code",
   "execution_count": 43,
   "id": "51319147",
   "metadata": {},
   "outputs": [
    {
     "data": {
      "text/plain": [
       "7"
      ]
     },
     "execution_count": 43,
     "metadata": {},
     "output_type": "execute_result"
    }
   ],
   "source": [
    "cal_a.sub(3)"
   ]
  },
  {
   "cell_type": "code",
   "execution_count": 44,
   "id": "62b480f4",
   "metadata": {},
   "outputs": [
    {
     "data": {
      "text/plain": [
       "17"
      ]
     },
     "execution_count": 44,
     "metadata": {},
     "output_type": "execute_result"
    }
   ],
   "source": [
    "cal_a.add(10)"
   ]
  },
  {
   "cell_type": "code",
   "execution_count": 49,
   "id": "607a160f",
   "metadata": {},
   "outputs": [],
   "source": [
    "cal_b= Calculator()"
   ]
  },
  {
   "cell_type": "code",
   "execution_count": 51,
   "id": "b85df707",
   "metadata": {
    "scrolled": true
   },
   "outputs": [
    {
     "data": {
      "text/plain": [
       "100"
      ]
     },
     "execution_count": 51,
     "metadata": {},
     "output_type": "execute_result"
    }
   ],
   "source": [
    "cal_b.add(100)"
   ]
  },
  {
   "cell_type": "markdown",
   "id": "df3e2c88",
   "metadata": {},
   "source": [
    "## method \n",
    "* 메소드란? : 클래스 내부에 있는 함수 \n",
    "\n",
    "```python \n",
    "def setdata(self,frist,second): #메서드의 매개변수 \n",
    "    ___ self.first = first  # 메서드의 수행문 \n",
    "    ___ self.seconde = second  # 메서드의 수행문 \n",
    "```\n",
    "\n"
   ]
  },
  {
   "cell_type": "code",
   "execution_count": 63,
   "id": "d22d704e",
   "metadata": {},
   "outputs": [],
   "source": [
    "# 사칙연산이 가능한 클래스 계산기 만들기 \n",
    "\n",
    "class FourCal:\n",
    "    def setdata(self,first,second):\n",
    "        self.first = first\n",
    "        self.second = second\n",
    "        print(self.first,self.second )"
   ]
  },
  {
   "cell_type": "code",
   "execution_count": 65,
   "id": "c06569bf",
   "metadata": {},
   "outputs": [],
   "source": [
    "a = FourCal()"
   ]
  },
  {
   "cell_type": "code",
   "execution_count": 66,
   "id": "263f6564",
   "metadata": {},
   "outputs": [
    {
     "name": "stdout",
     "output_type": "stream",
     "text": [
      "4 2\n"
     ]
    }
   ],
   "source": [
    "a.setdata(4,2)"
   ]
  },
  {
   "cell_type": "code",
   "execution_count": 67,
   "id": "15f440db",
   "metadata": {},
   "outputs": [
    {
     "data": {
      "text/plain": [
       "4"
      ]
     },
     "execution_count": 67,
     "metadata": {},
     "output_type": "execute_result"
    }
   ],
   "source": [
    "a.first"
   ]
  },
  {
   "cell_type": "code",
   "execution_count": 69,
   "id": "b60dc47d",
   "metadata": {},
   "outputs": [
    {
     "data": {
      "text/plain": [
       "2"
      ]
     },
     "execution_count": 69,
     "metadata": {},
     "output_type": "execute_result"
    }
   ],
   "source": [
    "a.second"
   ]
  },
  {
   "cell_type": "markdown",
   "id": "02e5bd1c",
   "metadata": {},
   "source": [
    "## 더하기 기능 만들기 "
   ]
  },
  {
   "cell_type": "code",
   "execution_count": 75,
   "id": "d300f9d3",
   "metadata": {},
   "outputs": [],
   "source": [
    "class FourCal:\n",
    "    def setdata(self,first,second): # 인스턴스 변수 \n",
    "        self.first = first\n",
    "        self.second = second\n",
    "        print(self.first,self.second )\n",
    "        \n",
    "    def add(self):\n",
    "        result = self.first + self.second\n",
    "        return result \n",
    "    def sub(self):\n",
    "        result = self.first - self.second\n",
    "        return result \n",
    "    def mul(self):\n",
    "        result = self.first - self.second\n",
    "        return result \n",
    "    def div(self):\n",
    "        result = self.first / self.second \n",
    "        return result"
   ]
  },
  {
   "cell_type": "code",
   "execution_count": 76,
   "id": "0f7d2ebc",
   "metadata": {},
   "outputs": [],
   "source": [
    "a = FourCal()"
   ]
  },
  {
   "cell_type": "code",
   "execution_count": 77,
   "id": "237dbf73",
   "metadata": {},
   "outputs": [
    {
     "name": "stdout",
     "output_type": "stream",
     "text": [
      "2 3\n"
     ]
    }
   ],
   "source": [
    "a.setdata(2,3)"
   ]
  },
  {
   "cell_type": "code",
   "execution_count": 81,
   "id": "733b2589",
   "metadata": {},
   "outputs": [
    {
     "data": {
      "text/plain": [
       "0.6666666666666666"
      ]
     },
     "execution_count": 81,
     "metadata": {},
     "output_type": "execute_result"
    }
   ],
   "source": [
    "a.div()"
   ]
  },
  {
   "cell_type": "markdown",
   "id": "7b7baae1",
   "metadata": {},
   "source": [
    "### 부가 기능 완성"
   ]
  },
  {
   "cell_type": "markdown",
   "id": "11601843",
   "metadata": {},
   "source": [
    "### 인스턴스 변수 \n",
    "* 메소드를 통해 특정 변수를 만드는 것을 보고 인스턴스 변수라고 한다. \n",
    "\n",
    "### 생성자 \n",
    "* 클래스를 할당하면서 변수의 값을 바로 할당해주는 것 \n",
    "* 더 정리해서 얘기하면, 객체에 first , second와 같은 초기 값을 설정해야 할 필요가 있을 때, setdata와 같은 메서드를 호출해서 초기값을 설정하는 것 보다, 생성자를 만들어서 객체를 생성할 때 값을 바로 받는 것이 더 좋다. \n",
    "* 생성자(constructor)란 객체가 생성될 때 자동으로 호출되는 메서드를 의미\n",
    "* class내 메서드명으로 __init__를 사용하면 그것이 생성자가 된다. "
   ]
  },
  {
   "cell_type": "code",
   "execution_count": 95,
   "id": "4baaa284",
   "metadata": {},
   "outputs": [],
   "source": [
    "class FourCal:\n",
    "    def __init__(self,first,second): # 생성자 \n",
    "        self.first = first                # self.first 인스턴스 변수 \n",
    "        self.second = second   #self.second 인스턴스 변수 \n",
    "        \n",
    "    \n",
    "#     def setdata(self,first,second): # 인스턴스 변수 \n",
    "#         self.first = first\n",
    "#         self.second = second\n",
    "#         print(self.first,self.second )\n",
    "        \n",
    "    def add(self):\n",
    "        result = self.first + self.second\n",
    "        return result \n",
    "    def sub(self):\n",
    "        result = self.first - self.second\n",
    "        return result \n",
    "    def mul(self):\n",
    "        result = self.first * self.second\n",
    "        return result \n",
    "    def div(self):\n",
    "        result = self.first / self.second \n",
    "        return result"
   ]
  },
  {
   "cell_type": "code",
   "execution_count": 96,
   "id": "062cf7ec",
   "metadata": {},
   "outputs": [],
   "source": [
    "a = FourCal(2,3)"
   ]
  },
  {
   "cell_type": "code",
   "execution_count": 93,
   "id": "999167d7",
   "metadata": {},
   "outputs": [
    {
     "data": {
      "text/plain": [
       "5"
      ]
     },
     "execution_count": 93,
     "metadata": {},
     "output_type": "execute_result"
    }
   ],
   "source": [
    "a.add()"
   ]
  },
  {
   "cell_type": "code",
   "execution_count": 97,
   "id": "91cf5071",
   "metadata": {},
   "outputs": [
    {
     "data": {
      "text/plain": [
       "6"
      ]
     },
     "execution_count": 97,
     "metadata": {},
     "output_type": "execute_result"
    }
   ],
   "source": [
    "a.mul()"
   ]
  },
  {
   "cell_type": "markdown",
   "id": "5f85c3a0",
   "metadata": {},
   "source": [
    "## 클래스의 상속 \n",
    "* 어떤 클래스를 만들 때 마다 다른 클래스의 기능을 물려 받을 수 있게 만드는 것 \n",
    "* 기존 클래스에 기능을 추가하려 할 때 \n",
    "* A클래스를 상속 받아 B클래스를 생성 한다고 할 때 , B클래스는 A클래스의 모든 기능을 사용할 수 있다. \n",
    "\n",
    "$ a^b $를 계산하는 MoreFourCal 클래스 만들기 \n"
   ]
  },
  {
   "cell_type": "code",
   "execution_count": 98,
   "id": "6047748b",
   "metadata": {},
   "outputs": [],
   "source": [
    "class MoreFourCal(FourCal):\n",
    "    def pow(self):\n",
    "        result = self.first ** self.second \n",
    "        return result \n",
    "    "
   ]
  },
  {
   "cell_type": "code",
   "execution_count": 100,
   "id": "3d804a49",
   "metadata": {},
   "outputs": [],
   "source": [
    "a = MoreFourCal(2,4)"
   ]
  },
  {
   "cell_type": "code",
   "execution_count": 102,
   "id": "9d7ef055",
   "metadata": {},
   "outputs": [
    {
     "data": {
      "text/plain": [
       "16"
      ]
     },
     "execution_count": 102,
     "metadata": {},
     "output_type": "execute_result"
    }
   ],
   "source": [
    "a.pow()"
   ]
  },
  {
   "cell_type": "code",
   "execution_count": 103,
   "id": "8b0c5674",
   "metadata": {},
   "outputs": [
    {
     "data": {
      "text/plain": [
       "6"
      ]
     },
     "execution_count": 103,
     "metadata": {},
     "output_type": "execute_result"
    }
   ],
   "source": [
    "a.add()"
   ]
  },
  {
   "cell_type": "markdown",
   "id": "5670cb78",
   "metadata": {},
   "source": [
    "### 상속은 MoreFourCal 클래스 처럼 기존 클래스(FourCal)은 그대로 놔둔 채 클래스의 기능을 확장 할 때 주로 사용 "
   ]
  },
  {
   "cell_type": "markdown",
   "id": "1f7aa194",
   "metadata": {},
   "source": [
    "###  상속과 오버라이딩 \n",
    "* 부모 클래스 (상속한 클래스_FourCal)에 있는 메서드를 동일한 이름으로 다시 만드는 것. \n",
    "* method overriding이라고 합니다. "
   ]
  },
  {
   "cell_type": "code",
   "execution_count": 104,
   "id": "c1cc6934",
   "metadata": {},
   "outputs": [],
   "source": [
    "a = FourCal(4,0)"
   ]
  },
  {
   "cell_type": "code",
   "execution_count": 117,
   "id": "a4d8c4ab",
   "metadata": {},
   "outputs": [],
   "source": [
    "class SafeFourCal(FourCal):\n",
    "    def div(self):\n",
    "        if self.second == 0 :\n",
    "            return 0\n",
    "        else:\n",
    "            return self.first/self.second\n",
    "        \n",
    "    def pow(self):\n",
    "        result = self.first ** self.second\n",
    "        return result"
   ]
  },
  {
   "cell_type": "code",
   "execution_count": 118,
   "id": "33c7e532",
   "metadata": {},
   "outputs": [],
   "source": [
    "a = SafeFourCal(4,0)"
   ]
  },
  {
   "cell_type": "code",
   "execution_count": 119,
   "id": "541623f5",
   "metadata": {},
   "outputs": [
    {
     "data": {
      "text/plain": [
       "0"
      ]
     },
     "execution_count": 119,
     "metadata": {},
     "output_type": "execute_result"
    }
   ],
   "source": [
    "a.div()"
   ]
  },
  {
   "cell_type": "code",
   "execution_count": 111,
   "id": "a57c45af",
   "metadata": {},
   "outputs": [
    {
     "data": {
      "text/plain": [
       "4"
      ]
     },
     "execution_count": 111,
     "metadata": {},
     "output_type": "execute_result"
    }
   ],
   "source": [
    "a.sub()"
   ]
  },
  {
   "cell_type": "code",
   "execution_count": 114,
   "id": "e4891c56",
   "metadata": {},
   "outputs": [
    {
     "data": {
      "text/plain": [
       "4"
      ]
     },
     "execution_count": 114,
     "metadata": {},
     "output_type": "execute_result"
    }
   ],
   "source": [
    "a.add()"
   ]
  },
  {
   "cell_type": "code",
   "execution_count": 115,
   "id": "5e0b08d8",
   "metadata": {},
   "outputs": [
    {
     "data": {
      "text/plain": [
       "0"
      ]
     },
     "execution_count": 115,
     "metadata": {},
     "output_type": "execute_result"
    }
   ],
   "source": [
    "a.mul()"
   ]
  },
  {
   "cell_type": "code",
   "execution_count": 116,
   "id": "83e72ac2",
   "metadata": {},
   "outputs": [
    {
     "data": {
      "text/plain": [
       "0"
      ]
     },
     "execution_count": 116,
     "metadata": {},
     "output_type": "execute_result"
    }
   ],
   "source": [
    "a.div()"
   ]
  },
  {
   "cell_type": "code",
   "execution_count": 120,
   "id": "5dda7505",
   "metadata": {
    "scrolled": true
   },
   "outputs": [
    {
     "data": {
      "text/plain": [
       "1"
      ]
     },
     "execution_count": 120,
     "metadata": {},
     "output_type": "execute_result"
    }
   ],
   "source": [
    "a.pow()"
   ]
  },
  {
   "cell_type": "markdown",
   "id": "46e1ae18",
   "metadata": {},
   "source": [
    "### 클래스 변수 "
   ]
  },
  {
   "cell_type": "code",
   "execution_count": 121,
   "id": "b9261ca5",
   "metadata": {},
   "outputs": [],
   "source": [
    "class Family:\n",
    "    lastname = '김'"
   ]
  },
  {
   "cell_type": "code",
   "execution_count": 123,
   "id": "cce41156",
   "metadata": {},
   "outputs": [
    {
     "data": {
      "text/plain": [
       "'김'"
      ]
     },
     "execution_count": 123,
     "metadata": {},
     "output_type": "execute_result"
    }
   ],
   "source": [
    "Family.lastname"
   ]
  },
  {
   "cell_type": "code",
   "execution_count": 124,
   "id": "71621c36",
   "metadata": {},
   "outputs": [],
   "source": [
    "a = Family()"
   ]
  },
  {
   "cell_type": "code",
   "execution_count": 125,
   "id": "51d638ed",
   "metadata": {},
   "outputs": [],
   "source": [
    "b = Family()"
   ]
  },
  {
   "cell_type": "code",
   "execution_count": 128,
   "id": "7a081720",
   "metadata": {},
   "outputs": [
    {
     "data": {
      "text/plain": [
       "'김'"
      ]
     },
     "execution_count": 128,
     "metadata": {},
     "output_type": "execute_result"
    }
   ],
   "source": [
    "a.lastname"
   ]
  },
  {
   "cell_type": "code",
   "execution_count": 129,
   "id": "275d44c2",
   "metadata": {},
   "outputs": [
    {
     "data": {
      "text/plain": [
       "'김'"
      ]
     },
     "execution_count": 129,
     "metadata": {},
     "output_type": "execute_result"
    }
   ],
   "source": [
    "b.lastname"
   ]
  },
  {
   "cell_type": "code",
   "execution_count": 130,
   "id": "a1ff3b02",
   "metadata": {},
   "outputs": [],
   "source": [
    "a.lastname = '박' #수정이 가능하다  #클래스 변수가 아닌 , 객체 변수를 따로 생성한 것이다. "
   ]
  },
  {
   "cell_type": "code",
   "execution_count": 132,
   "id": "03a02076",
   "metadata": {},
   "outputs": [
    {
     "data": {
      "text/plain": [
       "'박'"
      ]
     },
     "execution_count": 132,
     "metadata": {},
     "output_type": "execute_result"
    }
   ],
   "source": [
    "a.lastname"
   ]
  },
  {
   "cell_type": "code",
   "execution_count": 134,
   "id": "f3d3bf24",
   "metadata": {},
   "outputs": [
    {
     "data": {
      "text/plain": [
       "'김'"
      ]
     },
     "execution_count": 134,
     "metadata": {},
     "output_type": "execute_result"
    }
   ],
   "source": [
    "b.lastname "
   ]
  },
  {
   "cell_type": "code",
   "execution_count": 135,
   "id": "4446d3d6",
   "metadata": {},
   "outputs": [],
   "source": [
    "Family.lastname = '최'"
   ]
  },
  {
   "cell_type": "code",
   "execution_count": 136,
   "id": "a230b019",
   "metadata": {},
   "outputs": [
    {
     "data": {
      "text/plain": [
       "'최'"
      ]
     },
     "execution_count": 136,
     "metadata": {},
     "output_type": "execute_result"
    }
   ],
   "source": [
    "b.lastname"
   ]
  },
  {
   "cell_type": "markdown",
   "id": "f70519f7",
   "metadata": {},
   "source": [
    "## 비공개 클래스 속성 \n",
    "__ (언더바 2개 )로 시작하면 비공개 속성이 된다. \n"
   ]
  },
  {
   "cell_type": "code",
   "execution_count": 143,
   "id": "fd9d0a52",
   "metadata": {},
   "outputs": [],
   "source": [
    "class Knight:\n",
    "    lastname='김'\n",
    "    __item_limit = 10 \n",
    "    \n",
    "    def print_item_limit(self):\n",
    "        print(Knight.__item_limit)"
   ]
  },
  {
   "cell_type": "code",
   "execution_count": 147,
   "id": "c0b5f297",
   "metadata": {},
   "outputs": [],
   "source": [
    "x = Knight()"
   ]
  },
  {
   "cell_type": "code",
   "execution_count": 148,
   "id": "5a5fb599",
   "metadata": {},
   "outputs": [
    {
     "data": {
      "text/plain": [
       "'김'"
      ]
     },
     "execution_count": 148,
     "metadata": {},
     "output_type": "execute_result"
    }
   ],
   "source": [
    "x.lastname"
   ]
  },
  {
   "cell_type": "code",
   "execution_count": 150,
   "id": "9a24b615",
   "metadata": {},
   "outputs": [
    {
     "ename": "AttributeError",
     "evalue": "'Knight' object has no attribute '__item_limit'",
     "output_type": "error",
     "traceback": [
      "\u001b[1;31m---------------------------------------------------------------------------\u001b[0m",
      "\u001b[1;31mAttributeError\u001b[0m                            Traceback (most recent call last)",
      "Cell \u001b[1;32mIn[150], line 1\u001b[0m\n\u001b[1;32m----> 1\u001b[0m \u001b[43mx\u001b[49m\u001b[38;5;241;43m.\u001b[39;49m\u001b[43m__item_limit\u001b[49m()\n",
      "\u001b[1;31mAttributeError\u001b[0m: 'Knight' object has no attribute '__item_limit'"
     ]
    }
   ],
   "source": [
    "x.__item_limit()"
   ]
  }
 ],
 "metadata": {
  "kernelspec": {
   "display_name": "myvenv",
   "language": "python",
   "name": "myvenv"
  },
  "language_info": {
   "codemirror_mode": {
    "name": "ipython",
    "version": 3
   },
   "file_extension": ".py",
   "mimetype": "text/x-python",
   "name": "python",
   "nbconvert_exporter": "python",
   "pygments_lexer": "ipython3",
   "version": "3.8.17"
  }
 },
 "nbformat": 4,
 "nbformat_minor": 5
}
