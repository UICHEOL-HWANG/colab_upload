{
 "cells": [
  {
   "cell_type": "markdown",
   "id": "887660e8",
   "metadata": {},
   "source": [
    "## 텍스트를 음성으로 변환시키기"
   ]
  },
  {
   "cell_type": "code",
   "execution_count": 3,
   "id": "75435239",
   "metadata": {},
   "outputs": [],
   "source": [
    "from gtts import gTTS"
   ]
  },
  {
   "cell_type": "code",
   "execution_count": 7,
   "id": "feff1727",
   "metadata": {},
   "outputs": [],
   "source": [
    "text = 'Business news is just a fingertip away.The Maeil Business Newspaper English news service Pulse is now available on mobile app.Download \"Maeil Business Pulse\" from Google Play or App Store for access to up-to-the-minute and around-the-clock news on Korean economy, business, finances, and market-moving topics.Pulse app will bring Korean markets closer.'\n",
    "tts = gTTS(text=text,lang='en')\n",
    "tts.save('매경뉴스.mp3')"
   ]
  },
  {
   "cell_type": "code",
   "execution_count": 9,
   "id": "59dd4323",
   "metadata": {
    "scrolled": true
   },
   "outputs": [
    {
     "data": {
      "text/plain": [
       "{'af': 'Afrikaans',\n",
       " 'ar': 'Arabic',\n",
       " 'bg': 'Bulgarian',\n",
       " 'bn': 'Bengali',\n",
       " 'bs': 'Bosnian',\n",
       " 'ca': 'Catalan',\n",
       " 'cs': 'Czech',\n",
       " 'da': 'Danish',\n",
       " 'de': 'German',\n",
       " 'el': 'Greek',\n",
       " 'en': 'English',\n",
       " 'es': 'Spanish',\n",
       " 'et': 'Estonian',\n",
       " 'fi': 'Finnish',\n",
       " 'fr': 'French',\n",
       " 'gu': 'Gujarati',\n",
       " 'hi': 'Hindi',\n",
       " 'hr': 'Croatian',\n",
       " 'hu': 'Hungarian',\n",
       " 'id': 'Indonesian',\n",
       " 'is': 'Icelandic',\n",
       " 'it': 'Italian',\n",
       " 'iw': 'Hebrew',\n",
       " 'ja': 'Japanese',\n",
       " 'jw': 'Javanese',\n",
       " 'km': 'Khmer',\n",
       " 'kn': 'Kannada',\n",
       " 'ko': 'Korean',\n",
       " 'la': 'Latin',\n",
       " 'lv': 'Latvian',\n",
       " 'ml': 'Malayalam',\n",
       " 'mr': 'Marathi',\n",
       " 'ms': 'Malay',\n",
       " 'my': 'Myanmar (Burmese)',\n",
       " 'ne': 'Nepali',\n",
       " 'nl': 'Dutch',\n",
       " 'no': 'Norwegian',\n",
       " 'pl': 'Polish',\n",
       " 'pt': 'Portuguese',\n",
       " 'ro': 'Romanian',\n",
       " 'ru': 'Russian',\n",
       " 'si': 'Sinhala',\n",
       " 'sk': 'Slovak',\n",
       " 'sq': 'Albanian',\n",
       " 'sr': 'Serbian',\n",
       " 'su': 'Sundanese',\n",
       " 'sv': 'Swedish',\n",
       " 'sw': 'Swahili',\n",
       " 'ta': 'Tamil',\n",
       " 'te': 'Telugu',\n",
       " 'th': 'Thai',\n",
       " 'tl': 'Filipino',\n",
       " 'tr': 'Turkish',\n",
       " 'uk': 'Ukrainian',\n",
       " 'ur': 'Urdu',\n",
       " 'vi': 'Vietnamese',\n",
       " 'zh-CN': 'Chinese (Simplified)',\n",
       " 'zh-TW': 'Chinese (Mandarin/Taiwan)',\n",
       " 'zh': 'Chinese (Mandarin)'}"
      ]
     },
     "execution_count": 9,
     "metadata": {},
     "output_type": "execute_result"
    }
   ],
   "source": [
    "# 다국어 지원 \n",
    "\n",
    "import gtts \n",
    "\n",
    "gtts.lang.tts_langs()"
   ]
  },
  {
   "cell_type": "code",
   "execution_count": 15,
   "id": "7df94fc1",
   "metadata": {},
   "outputs": [
    {
     "ename": "SyntaxError",
     "evalue": "cannot assign to operator (1641527170.py, line 1)",
     "output_type": "error",
     "traceback": [
      "\u001b[1;36m  Cell \u001b[1;32mIn[15], line 1\u001b[1;36m\u001b[0m\n\u001b[1;33m    kr-text = \"는 어거지가 심하며 규칙을 지키지않고 불법 과속 위협 운전이 일상입니다 하지만 대부분 키는 작고 볼품없으며 칠부바지에 양말신고 쪼리 꾸러기스냅백에 뿔테안경을 즐깁니다\"\u001b[0m\n\u001b[1;37m    ^\u001b[0m\n\u001b[1;31mSyntaxError\u001b[0m\u001b[1;31m:\u001b[0m cannot assign to operator\n"
     ]
    }
   ],
   "source": [
    "text = '인생에서 꼭 한명을 걸러야한다면 그것은 카니발 타는 사람을 걸러야합니다. 통계적으로 개저씨일 확률이 매우높습니다 대부분 빌라에 거주하며 학력이 낮고 지능이 떨어지며 단순 계약직군에 종사합니다 성격적으로는 어거지가 심하며 규칙을 지키지않고 불법 과속 위협 운전이 일상입니다 하지만 대부분 키는 작고 볼품없으며 칠부바지에 양말신고 쪼리, 꾸러기스냅백에 뿔테안경을 즐깁니다'\n",
    "tts = gTTS(text=text,lang='ko')\n",
    "tts.save('네이버댓글.mp3')"
   ]
  }
 ],
 "metadata": {
  "kernelspec": {
   "display_name": "myvenv",
   "language": "python",
   "name": "myvenv"
  },
  "language_info": {
   "codemirror_mode": {
    "name": "ipython",
    "version": 3
   },
   "file_extension": ".py",
   "mimetype": "text/x-python",
   "name": "python",
   "nbconvert_exporter": "python",
   "pygments_lexer": "ipython3",
   "version": "3.8.17"
  }
 },
 "nbformat": 4,
 "nbformat_minor": 5
}
