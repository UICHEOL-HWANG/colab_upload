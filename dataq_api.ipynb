{
  "nbformat": 4,
  "nbformat_minor": 0,
  "metadata": {
    "colab": {
      "provenance": [],
      "authorship_tag": "ABX9TyPFNTGkgbNicq43lOnOUbsY",
      "include_colab_link": true
    },
    "kernelspec": {
      "name": "python3",
      "display_name": "Python 3"
    },
    "language_info": {
      "name": "python"
    }
  },
  "cells": [
    {
      "cell_type": "markdown",
      "metadata": {
        "id": "view-in-github",
        "colab_type": "text"
      },
      "source": [
        "<a href=\"https://colab.research.google.com/github/UICHEOL-HWANG/colab_upload/blob/master/dataq_api.ipynb\" target=\"_parent\"><img src=\"https://colab.research.google.com/assets/colab-badge.svg\" alt=\"Open In Colab\"/></a>"
      ]
    },
    {
      "cell_type": "code",
      "execution_count": 162,
      "metadata": {
        "id": "syFGFSWPU9h2",
        "colab": {
          "base_uri": "https://localhost:8080/"
        },
        "outputId": "36ccf4d1-1cd4-40f9-ad4e-311dda5f2124"
      },
      "outputs": [
        {
          "name": "stdout",
          "output_type": "stream",
          "text": [
            "비밀번호 입력>>··········\n"
          ]
        }
      ],
      "source": [
        "import os\n",
        "import sys\n",
        "import urllib.request\n",
        "import datetime\n",
        "import time\n",
        "import json\n",
        "import math\n",
        "import pandas as pd\n",
        "from urllib.parse import urlencode, unquote\n",
        "from xml_to_dict import XMLtoDict\n",
        "import matplotlib.pyplot as plt\n",
        "import koreanize_matplotlib\n",
        "\n",
        "import getpass\n",
        "\n",
        "servicekey = getpass.getpass(\"비밀번호 입력>>\")\n",
        "xd = XMLtoDict()"
      ]
    },
    {
      "cell_type": "code",
      "source": [
        "pip install koreanize_matplotlib"
      ],
      "metadata": {
        "colab": {
          "base_uri": "https://localhost:8080/"
        },
        "id": "jYngBfY0WogN",
        "outputId": "0493a11a-4331-4f2b-a7fc-53adda17de09"
      },
      "execution_count": 94,
      "outputs": [
        {
          "output_type": "stream",
          "name": "stdout",
          "text": [
            "Looking in indexes: https://pypi.org/simple, https://us-python.pkg.dev/colab-wheels/public/simple/\n",
            "Collecting koreanize_matplotlib\n",
            "  Downloading koreanize_matplotlib-0.1.1-py3-none-any.whl (7.9 MB)\n",
            "\u001b[2K     \u001b[90m━━━━━━━━━━━━━━━━━━━━━━━━━━━━━━━━━━━━━━━━\u001b[0m \u001b[32m7.9/7.9 MB\u001b[0m \u001b[31m65.9 MB/s\u001b[0m eta \u001b[36m0:00:00\u001b[0m\n",
            "\u001b[?25hRequirement already satisfied: matplotlib in /usr/local/lib/python3.10/dist-packages (from koreanize_matplotlib) (3.7.1)\n",
            "Requirement already satisfied: contourpy>=1.0.1 in /usr/local/lib/python3.10/dist-packages (from matplotlib->koreanize_matplotlib) (1.0.7)\n",
            "Requirement already satisfied: cycler>=0.10 in /usr/local/lib/python3.10/dist-packages (from matplotlib->koreanize_matplotlib) (0.11.0)\n",
            "Requirement already satisfied: fonttools>=4.22.0 in /usr/local/lib/python3.10/dist-packages (from matplotlib->koreanize_matplotlib) (4.39.3)\n",
            "Requirement already satisfied: kiwisolver>=1.0.1 in /usr/local/lib/python3.10/dist-packages (from matplotlib->koreanize_matplotlib) (1.4.4)\n",
            "Requirement already satisfied: numpy>=1.20 in /usr/local/lib/python3.10/dist-packages (from matplotlib->koreanize_matplotlib) (1.22.4)\n",
            "Requirement already satisfied: packaging>=20.0 in /usr/local/lib/python3.10/dist-packages (from matplotlib->koreanize_matplotlib) (23.1)\n",
            "Requirement already satisfied: pillow>=6.2.0 in /usr/local/lib/python3.10/dist-packages (from matplotlib->koreanize_matplotlib) (8.4.0)\n",
            "Requirement already satisfied: pyparsing>=2.3.1 in /usr/local/lib/python3.10/dist-packages (from matplotlib->koreanize_matplotlib) (3.0.9)\n",
            "Requirement already satisfied: python-dateutil>=2.7 in /usr/local/lib/python3.10/dist-packages (from matplotlib->koreanize_matplotlib) (2.8.2)\n",
            "Requirement already satisfied: six>=1.5 in /usr/local/lib/python3.10/dist-packages (from python-dateutil>=2.7->matplotlib->koreanize_matplotlib) (1.16.0)\n",
            "Installing collected packages: koreanize_matplotlib\n",
            "Successfully installed koreanize_matplotlib-0.1.1\n"
          ]
        }
      ]
    },
    {
      "cell_type": "code",
      "source": [
        "pip install xml_to_dict"
      ],
      "metadata": {
        "colab": {
          "base_uri": "https://localhost:8080/"
        },
        "id": "ihr4hUpnJFn7",
        "outputId": "cb6f98c7-ebd9-4e1e-86d6-f8ea640ca44e"
      },
      "execution_count": 6,
      "outputs": [
        {
          "output_type": "stream",
          "name": "stdout",
          "text": [
            "Looking in indexes: https://pypi.org/simple, https://us-python.pkg.dev/colab-wheels/public/simple/\n",
            "Collecting xml_to_dict\n",
            "  Downloading xml_to_dict-0.1.6-py3-none-any.whl (3.6 kB)\n",
            "Installing collected packages: xml_to_dict\n",
            "Successfully installed xml_to_dict-0.1.6\n"
          ]
        }
      ]
    },
    {
      "cell_type": "code",
      "source": [
        "def get_reQuest_url(url):\n",
        "  req = urllib.request.Request(url)\n",
        "  try:\n",
        "    response = urllib.request.urlopen(req)\n",
        "    if response.getcode() == 200:\n",
        "      print (\"[%s] Url Request Success\" % datetime.datetime.now())\n",
        "      return response.read().decode('utf-8')\n",
        "  except Exception as e:\n",
        "    print(e)\n",
        "    print(\"[%s] Error for URL : %s\" % (datetime.datetime.now(), url))\n",
        "  return None\n",
        "\n",
        "def getTouristWrite(yyyymm, national_code, ed_cd):\n",
        "\n",
        "  service_url = \"http://openapi.tour.go.kr/openapi/service/EdrcntTourismStatsService/\"\n",
        "  parameters = \"getEdrcntTourismStatsList?serviceKey=\" + servicekey   # 인증키\n",
        "  parameters += \"&YM=\" + yyyymm\n",
        "  parameters += \"&NAT_CD=\" + national_code\n",
        "  parameters += \"&ED_CD=\" + ed_cd\n",
        "\n",
        "  url = service_url + parameters\n",
        "  print(url)   # 액세스 거부 여부 확인용 출력\n",
        "  responseDecode = get_reQuest_url(url)   # [CODE 1]\n",
        "\n",
        "  if(responseDecode == None):\n",
        "    return None\n",
        "  else :\n",
        "    return xd.parse(responseDecode)\n",
        "\n",
        "def getTouristInfo(nat_cd,ed_cd,nStartYear,nEndYear):\n",
        "  xd_result = []\n",
        "  result = []\n",
        "  natName = ''\n",
        "  dataEND = \"{0}{1:0>2}\".format(str(nEndYear), str(12))\n",
        "  isDataEnd = 0\n",
        "\n",
        "  for year in range(nStartYear,nEndYear+1):\n",
        "    for month in range(1,13):\n",
        "      if(isDataEnd ==1 ): break\n",
        "      yyyymm = \"{0}{1:0>2}\".format(str(year), str(month))\n",
        "      xmlData = getTouristWrite(yyyymm, nat_cd, ed_cd)\n",
        "      if(xmlData['response']['header']['resultMsg']== 'OK'):\n",
        "        if xmlData['response']['body']['items'] == '':\n",
        "          isDataEnd = 1\n",
        "          dataEND = \"{0}{1:0>2}\".format(str(year),str(month-1))\n",
        "          print(\"데이터 없음.... \\n 제공되는 통계 데이터는 %s년 %s월까지입니다.\" %(str(year), str(month-1)))\n",
        "          break\n",
        "        json.dumps(xmlData,indent=4,sort_keys=True, ensure_ascii=False)\n",
        "        natName = xmlData['response']['body']['items']['item']['natKorNm']\n",
        "        natName = natName.replace(' ','')\n",
        "        num = xmlData['response']['body']['items']['item']['num']\n",
        "        ed = xmlData['response']['body']['items']['item']['ed']\n",
        "\n",
        "        xd_result.append({'natName':natName,'nat_cd':nat_cd,'yyyymm':yyyymm,'visit_cnt':num})\n",
        "        result.append([natName, nat_cd, yyyymm, num])\n",
        "  return (xd_result,result, natName, ed, dataEND)\n",
        "\n",
        "def main():\n",
        "  xd_result = []\n",
        "  result = []\n",
        "  print('국내 입국한 외국인들의 통계 데이터 입력중')\n",
        "  nat_cd = input(\"국가 코드 입력 >>\")\n",
        "  nStartYear = int(input('데이터를 몇 년부터 수집할까요? : '))\n",
        "  nEndYear = int(input('데이터를 몇 년까지 수집할까요? : '))\n",
        "  ed_cd = \"E\"\n",
        "  xd_result,result,natName,ed,dataEND = getTouristInfo(nat_cd,ed_cd,nStartYear,nEndYear)\n",
        "\n",
        "  columns = ['입국자국가','국가코드','입국연월','입국자 수']\n",
        "  df = pd.DataFrame(result,columns=columns)\n",
        "  df['입국연월'] = df['입국연월'].apply(lambda x : x[0:4] + '-' +x[4:6])\n",
        "  df['입국자 수'] = df['입국자 수'].astype(int)\n",
        "\n",
        "  #그래프 그리기\n",
        "  plt.rcParams[\"font.size\"] = 12\n",
        "  plt.figure(figsize =(20,10))\n",
        "  df.plot(kind='line',x = '입국연월',y='입국자 수',grid=True)\n",
        "  plt.show()\n",
        ""
      ],
      "metadata": {
        "id": "kxLcpcexVCXS"
      },
      "execution_count": 185,
      "outputs": []
    },
    {
      "cell_type": "code",
      "source": [
        "main() # API KEY 파싱이 개인정보 문제가 있어 출력하지 못했음"
      ],
      "metadata": {
        "id": "yId6EeoXqXlb"
      },
      "execution_count": null,
      "outputs": []
    }
  ]
}